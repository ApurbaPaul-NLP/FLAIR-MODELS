{
  "nbformat": 4,
  "nbformat_minor": 0,
  "metadata": {
    "colab": {
      "provenance": [],
      "authorship_tag": "ABX9TyO+Dc3ftK5Qp/3QVrbYAebj",
      "include_colab_link": true
    },
    "kernelspec": {
      "name": "python3",
      "display_name": "Python 3"
    },
    "language_info": {
      "name": "python"
    },
    "accelerator": "GPU",
    "gpuClass": "standard"
  },
  "cells": [
    {
      "cell_type": "markdown",
      "metadata": {
        "id": "view-in-github",
        "colab_type": "text"
      },
      "source": [
        "<a href=\"https://colab.research.google.com/github/ApurbaPaul-NLP/FLAIR-MODELS/blob/main/Prog1_06_09_2022_NLP_Base_Types.ipynb\" target=\"_parent\"><img src=\"https://colab.research.google.com/assets/colab-badge.svg\" alt=\"Open In Colab\"/></a>"
      ]
    },
    {
      "cell_type": "markdown",
      "source": [
        "# **Creating a Sentence**"
      ],
      "metadata": {
        "id": "m6M5sDwQi75Y"
      }
    },
    {
      "cell_type": "markdown",
      "source": [
        "There are two types of objects that are central to this library, namely the Sentence and Token objects. A Sentence holds a textual sentence and is essentially a list of Token.\n",
        "\n",
        "Let's start by making a Sentence object for an example sentence."
      ],
      "metadata": {
        "id": "LiX7WUJGjEVg"
      }
    },
    {
      "cell_type": "code",
      "source": [
        "!pip install flair"
      ],
      "metadata": {
        "id": "X4eL1VKtjyYT"
      },
      "execution_count": null,
      "outputs": []
    },
    {
      "cell_type": "code",
      "execution_count": 2,
      "metadata": {
        "colab": {
          "base_uri": "https://localhost:8080/"
        },
        "id": "Ggtn5DD_h8fI",
        "outputId": "ffb91c9d-7fb5-45f7-d6e3-4ad5cc2a26aa"
      },
      "outputs": [
        {
          "output_type": "stream",
          "name": "stdout",
          "text": [
            "Sentence: \"The grass is green .\"\n"
          ]
        }
      ],
      "source": [
        "from flair.data import Sentence\n",
        "sent=Sentence('The grass is green.')\n",
        "print(sent)"
      ]
    },
    {
      "cell_type": "code",
      "source": [
        "print(type(sent))"
      ],
      "metadata": {
        "colab": {
          "base_uri": "https://localhost:8080/"
        },
        "id": "Ni1hGGurjkUE",
        "outputId": "0679a995-054d-4f75-f2c1-fb4e32584b57"
      },
      "execution_count": 4,
      "outputs": [
        {
          "output_type": "stream",
          "name": "stdout",
          "text": [
            "<class 'flair.data.Sentence'>\n"
          ]
        }
      ]
    },
    {
      "cell_type": "code",
      "source": [
        "for i in range(len(sent)):\n",
        "  print(sent[i])"
      ],
      "metadata": {
        "colab": {
          "base_uri": "https://localhost:8080/"
        },
        "id": "Mh_YzdX5kniu",
        "outputId": "d00d55f2-04fb-4bb6-d529-9629cfe6e7ac"
      },
      "execution_count": 5,
      "outputs": [
        {
          "output_type": "stream",
          "name": "stdout",
          "text": [
            "Token[0]: \"The\"\n",
            "Token[1]: \"grass\"\n",
            "Token[2]: \"is\"\n",
            "Token[3]: \"green\"\n",
            "Token[4]: \".\"\n"
          ]
        }
      ]
    },
    {
      "cell_type": "code",
      "source": [
        "for i in range(len(sent)+1):\n",
        "  print(sent.get_token(i))"
      ],
      "metadata": {
        "colab": {
          "base_uri": "https://localhost:8080/"
        },
        "id": "0ErisDLlktRQ",
        "outputId": "5193e422-643a-4387-989f-ad3ab5a6e9e2"
      },
      "execution_count": 7,
      "outputs": [
        {
          "output_type": "stream",
          "name": "stdout",
          "text": [
            "None\n",
            "Token[0]: \"The\"\n",
            "Token[1]: \"grass\"\n",
            "Token[2]: \"is\"\n",
            "Token[3]: \"green\"\n",
            "Token[4]: \".\"\n"
          ]
        }
      ]
    },
    {
      "cell_type": "code",
      "source": [
        "for i in sent:\n",
        "  print(i)"
      ],
      "metadata": {
        "colab": {
          "base_uri": "https://localhost:8080/"
        },
        "id": "zxU1Fcivky2P",
        "outputId": "eb312d70-8d13-4690-e8e7-67071c3aa478"
      },
      "execution_count": 8,
      "outputs": [
        {
          "output_type": "stream",
          "name": "stdout",
          "text": [
            "Token[0]: \"The\"\n",
            "Token[1]: \"grass\"\n",
            "Token[2]: \"is\"\n",
            "Token[3]: \"green\"\n",
            "Token[4]: \".\"\n"
          ]
        }
      ]
    },
    {
      "cell_type": "markdown",
      "source": [
        "The above text is automatically tokenized using the lightweight segtok library."
      ],
      "metadata": {
        "id": "Hl2lbKV1ll0j"
      }
    },
    {
      "cell_type": "markdown",
      "source": [
        "# **Adding Labels**"
      ],
      "metadata": {
        "id": "2r3vcLkAlICO"
      }
    },
    {
      "cell_type": "markdown",
      "source": [
        "In Flair, any data point can be labeled. For instance, you can label a word or label a sentence:"
      ],
      "metadata": {
        "id": "hzGkgkgSmj19"
      }
    },
    {
      "cell_type": "markdown",
      "source": [
        "**Adding labels to tokens**"
      ],
      "metadata": {
        "id": "Yqfomw9smr0w"
      }
    },
    {
      "cell_type": "markdown",
      "source": [
        "You can add a tag by specifying the tag type and the tag value. In this example, we're adding an NER tag of type 'color' to the word 'green'. \n",
        "\n",
        "This means that we've tagged this word as an entity of type color."
      ],
      "metadata": {
        "id": "rOIcYEgSm2SR"
      }
    },
    {
      "cell_type": "code",
      "source": [
        "# add a tag to a word in the sentence\n",
        "sent[3].set_label('ner', 'color')\n",
        "\n",
        "# print the sentence (now with this annotation)\n",
        "print(sent)"
      ],
      "metadata": {
        "colab": {
          "base_uri": "https://localhost:8080/"
        },
        "id": "AQUlx_EOlDAI",
        "outputId": "61110490-7f6b-4d14-ff1c-ba068ff0481e"
      },
      "execution_count": 9,
      "outputs": [
        {
          "output_type": "stream",
          "name": "stdout",
          "text": [
            "Sentence: \"The grass is green .\" → [\"green\"/color]\n"
          ]
        }
      ]
    },
    {
      "cell_type": "markdown",
      "source": [
        "The output indicates that the word \"green\" in this sentence is labeled as a \"color\". \n",
        "\n",
        "You can also iterate through each token and print it to see if it has labels:"
      ],
      "metadata": {
        "id": "YYpP9Y8XnEcF"
      }
    },
    {
      "cell_type": "code",
      "source": [
        "for token in sent:\n",
        "    print(token)"
      ],
      "metadata": {
        "colab": {
          "base_uri": "https://localhost:8080/"
        },
        "id": "qZJqmVgqnFrf",
        "outputId": "163e24ff-bdd5-4ed4-cbca-ee40959020bc"
      },
      "execution_count": 10,
      "outputs": [
        {
          "output_type": "stream",
          "name": "stdout",
          "text": [
            "Token[0]: \"The\"\n",
            "Token[1]: \"grass\"\n",
            "Token[2]: \"is\"\n",
            "Token[3]: \"green\" → color (1.0)\n",
            "Token[4]: \".\"\n"
          ]
        }
      ]
    },
    {
      "cell_type": "markdown",
      "source": [
        "**Accessing Label information**"
      ],
      "metadata": {
        "id": "T6OzjX4knLsQ"
      }
    },
    {
      "cell_type": "markdown",
      "source": [
        "Each label is of class Label which next to the value has a score indicating confidence. Print like this:"
      ],
      "metadata": {
        "id": "UeJgvTYLnNFL"
      }
    },
    {
      "cell_type": "code",
      "source": [
        "# get and print token 3 in the sentence\n",
        "token = sent[3]\n",
        "print(token)\n",
        "\n",
        "# get the 'ner' label of the token\n",
        "label = token.get_label('ner')\n",
        "# print text and id fields of the token, and the value and score fields of the label\n",
        "print(f'token.text is: \"{token.text}\"')\n",
        "print(f'token.idx is: \"{token.idx}\"')\n",
        "print(f'label.value is: \"{label.value}\"')\n",
        "print(f'label.score is: \"{label.score}\"')"
      ],
      "metadata": {
        "colab": {
          "base_uri": "https://localhost:8080/"
        },
        "id": "CH3nfZdMnQie",
        "outputId": "eb32f6e6-9c32-4c13-db33-6d2ce4d2ff09"
      },
      "execution_count": 11,
      "outputs": [
        {
          "output_type": "stream",
          "name": "stdout",
          "text": [
            "Token[3]: \"green\" → color (1.0)\n",
            "token.text is: \"green\"\n",
            "token.idx is: \"4\"\n",
            "label.value is: \"color\"\n",
            "label.score is: \"1.0\"\n"
          ]
        }
      ]
    },
    {
      "cell_type": "markdown",
      "source": [
        "Our color tag has a score of 1.0 since we manually added it. If a tag is predicted by our sequence labeler, the score value will indicate classifier confidence."
      ],
      "metadata": {
        "id": "QZkXGbwFnqSL"
      }
    },
    {
      "cell_type": "markdown",
      "source": [
        "**Multiple labels**"
      ],
      "metadata": {
        "id": "7y5AiW1DoF6n"
      }
    },
    {
      "cell_type": "code",
      "source": [
        "# add a tag to a word in the sentence\n",
        "sent[3].set_label('ner', 'color')\n",
        "sent[3].add_label('ner','person')\n",
        "\n",
        "# print the sentence (now with this annotation)\n",
        "print(sent)"
      ],
      "metadata": {
        "colab": {
          "base_uri": "https://localhost:8080/"
        },
        "id": "EPxNsP_ToWnO",
        "outputId": "87274cc7-55ef-4910-b0d9-59baf152be17"
      },
      "execution_count": 13,
      "outputs": [
        {
          "output_type": "stream",
          "name": "stdout",
          "text": [
            "Sentence: \"The grass is green .\" → [\"green\"/color/person]\n"
          ]
        }
      ]
    },
    {
      "cell_type": "markdown",
      "source": [
        "# **Adding labels to sentences**"
      ],
      "metadata": {
        "id": "Qw5Fs78zpJgc"
      }
    },
    {
      "cell_type": "markdown",
      "source": [
        "You can also add a Label to a whole Sentence. For instance, the example below shows how we add the label 'sports' to a sentence, thereby labeling it as belonging to the sports \"topic\"."
      ],
      "metadata": {
        "id": "dCgWSYhVpKwv"
      }
    },
    {
      "cell_type": "code",
      "source": [
        "sentence = Sentence('France is the current world cup winner.')\n",
        "\n",
        "# add a label to a sentence\n",
        "sentence.add_label('topic', 'sports')\n",
        "\n",
        "print(sentence)\n",
        "\n"
      ],
      "metadata": {
        "colab": {
          "base_uri": "https://localhost:8080/"
        },
        "id": "O9wcYUcIpPR6",
        "outputId": "0bfe9d51-451e-4853-cd43-2bd6712c5980"
      },
      "execution_count": 15,
      "outputs": [
        {
          "output_type": "stream",
          "name": "stdout",
          "text": [
            "Sentence: \"France is the current world cup winner .\" → sports (1.0)\n"
          ]
        }
      ]
    },
    {
      "cell_type": "code",
      "source": [
        "# Alternatively, you can also create a sentence with label in one line\n",
        "sentence = Sentence('France is the current world cup winner.').add_label('topic', 'sports')\n",
        "\n",
        "print(sentence)"
      ],
      "metadata": {
        "colab": {
          "base_uri": "https://localhost:8080/"
        },
        "id": "bcMfCdjmpUBb",
        "outputId": "71dc095d-ac90-41b3-a5d9-bdc1fb1d3918"
      },
      "execution_count": 16,
      "outputs": [
        {
          "output_type": "stream",
          "name": "stdout",
          "text": [
            "Sentence: \"France is the current world cup winner .\" → sports (1.0)\n"
          ]
        }
      ]
    },
    {
      "cell_type": "markdown",
      "source": [
        "**Multiple labels to Sentences**"
      ],
      "metadata": {
        "id": "CFKJ1-EPpW8r"
      }
    },
    {
      "cell_type": "code",
      "source": [
        "sentence = Sentence('France is the current world cup winner.')\n",
        "\n",
        "# this sentence has multiple topic labels\n",
        "sentence.add_label('topic', 'sports')\n",
        "sentence.add_label('topic', 'soccer')\n",
        "sentence"
      ],
      "metadata": {
        "colab": {
          "base_uri": "https://localhost:8080/"
        },
        "id": "sNKgmg2ppaSF",
        "outputId": "937e18af-f9c1-4b3a-e89e-49eacd73adb8"
      },
      "execution_count": 17,
      "outputs": [
        {
          "output_type": "execute_result",
          "data": {
            "text/plain": [
              "Sentence: \"France is the current world cup winner .\" → sports (1.0); soccer (1.0)"
            ]
          },
          "metadata": {},
          "execution_count": 17
        }
      ]
    },
    {
      "cell_type": "code",
      "source": [
        "sentence = Sentence('France is the current world cup winner.')\n",
        "\n",
        "# this sentence has multiple \"topic\" labels\n",
        "sentence.add_label('topic', 'sports')\n",
        "sentence.add_label('topic', 'soccer')\n",
        "\n",
        "# this sentence has a \"language\" label\n",
        "sentence.add_label('language', 'English')\n",
        "\n",
        "print(sentence)"
      ],
      "metadata": {
        "colab": {
          "base_uri": "https://localhost:8080/"
        },
        "id": "j3xOc-10pf9j",
        "outputId": "9d8d6bae-2fe1-4e0a-804b-45969319ae2b"
      },
      "execution_count": 18,
      "outputs": [
        {
          "output_type": "stream",
          "name": "stdout",
          "text": [
            "Sentence: \"France is the current world cup winner .\" → sports (1.0); soccer (1.0); English (1.0)\n"
          ]
        }
      ]
    },
    {
      "cell_type": "markdown",
      "source": [
        "**Accessing a sentence's labels**"
      ],
      "metadata": {
        "id": "50ZUuFyhprrH"
      }
    },
    {
      "cell_type": "code",
      "source": [
        "for label in sentence.labels:\n",
        "    print(label)"
      ],
      "metadata": {
        "colab": {
          "base_uri": "https://localhost:8080/"
        },
        "id": "-BHrf7uXpkFx",
        "outputId": "98a61776-3003-48f2-9908-04e621da7017"
      },
      "execution_count": 19,
      "outputs": [
        {
          "output_type": "stream",
          "name": "stdout",
          "text": [
            "Sentence: \"France is the current world cup winner .\" → sports (1.0)\n",
            "Sentence: \"France is the current world cup winner .\" → soccer (1.0)\n",
            "Sentence: \"France is the current world cup winner .\" → English (1.0)\n"
          ]
        }
      ]
    },
    {
      "cell_type": "code",
      "source": [
        "print(sentence.to_plain_string())\n",
        "for label in sentence.labels:\n",
        "    print(f' - classified as \"{label.value}\" with score {label.score}')"
      ],
      "metadata": {
        "colab": {
          "base_uri": "https://localhost:8080/"
        },
        "id": "ZzZENTXGpnDy",
        "outputId": "c9c19d26-6530-41b1-ff5f-882bd8e119fb"
      },
      "execution_count": 20,
      "outputs": [
        {
          "output_type": "stream",
          "name": "stdout",
          "text": [
            "France is the current world cup winner.\n",
            " - classified as \"sports\" with score 1.0\n",
            " - classified as \"soccer\" with score 1.0\n",
            " - classified as \"English\" with score 1.0\n"
          ]
        }
      ]
    },
    {
      "cell_type": "code",
      "source": [
        "for label in sentence.get_labels('topic'):\n",
        "    print(label)"
      ],
      "metadata": {
        "colab": {
          "base_uri": "https://localhost:8080/"
        },
        "id": "EPZ2A1PHppd9",
        "outputId": "02954b6a-2589-4f75-f684-a44bd9342a8a"
      },
      "execution_count": 21,
      "outputs": [
        {
          "output_type": "stream",
          "name": "stdout",
          "text": [
            "Sentence: \"France is the current world cup winner .\" → sports (1.0)\n",
            "Sentence: \"France is the current world cup winner .\" → soccer (1.0)\n"
          ]
        }
      ]
    }
  ]
}